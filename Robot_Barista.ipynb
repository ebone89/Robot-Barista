{
  "nbformat": 4,
  "nbformat_minor": 0,
  "metadata": {
    "colab": {
      "provenance": [],
      "authorship_tag": "ABX9TyMHFluTX2xTmJkjgndX7uI+",
      "include_colab_link": true
    },
    "kernelspec": {
      "name": "python3",
      "display_name": "Python 3"
    },
    "language_info": {
      "name": "python"
    }
  },
  "cells": [
    {
      "cell_type": "markdown",
      "metadata": {
        "id": "view-in-github",
        "colab_type": "text"
      },
      "source": [
        "<a href=\"https://colab.research.google.com/github/ebone89/Robot-Barista/blob/main/Robot_Barista.ipynb\" target=\"_parent\"><img src=\"https://colab.research.google.com/assets/colab-badge.svg\" alt=\"Open In Colab\"/></a>"
      ]
    },
    {
      "cell_type": "code",
      "execution_count": 1,
      "metadata": {
        "colab": {
          "base_uri": "https://localhost:8080/"
        },
        "id": "4a9FdhwdYocV",
        "outputId": "9788e09c-99ea-47e0-c8e6-9ad22763d8e7"
      },
      "outputs": [
        {
          "output_type": "stream",
          "name": "stdout",
          "text": [
            "Hello, welcome to NetworkChuck Coffee!!!!!!!!!!!!!!\n",
            "What is your name?\n",
            "Ethan\n",
            "Hello Ethan, thank you so much for coming in today.\n",
            "\n",
            "\n",
            "\n",
            "Ethan, what would you like from our menu today? Here is what we are serving.\n",
            "Black Coffee, Espresso, Latte, Cappucino\n",
            "Black\n",
            "How many coffees would you like?\n",
            "3\n",
            "Thank you. Your total is: $24\n",
            "Sounds good Ethan, we'll have your 3 Black ready for you in a moment.\n"
          ]
        }
      ],
      "source": [
        "#Let's start a coffee shop together!! We're going to build a coffee shop using some new Python programming concepts!!\n",
        "\n",
        "#Let's build robot Barista!!\n",
        "\n",
        "#Greet your customer\n",
        "print(\"Hello, welcome to NetworkChuck Coffee!!!!!!!!!!!!!!\")\n",
        "\n",
        "#Ask your customer what their name is with the input() function and store that in the variable NAME.\n",
        "name = input(\"What is your name?\\n\")\n",
        "\n",
        "#Greet the customer with their name and thank them for coming in today using concatenation.\n",
        "print(\"Hello \" + name + \", thank you so much for coming in today.\\n\\n\\n\")\n",
        "\n",
        "#Coffee menu\n",
        "menu = \"Black Coffee, Espresso, Latte, Cappucino\"\n",
        "\n",
        "#Ask the customer what they would like from the menu and store it in the variable order.\n",
        "order = input(name + \", what would you like from our menu today? Here is what we are serving.\\n\" + menu + \"\\n\")\n",
        "\n",
        "#Ask the customer how many coffees they would like and store it in the variable QUANTITY\n",
        "quantity = input(\"How many coffees would you like?\\n\")\n",
        "\n",
        "#Set the price for coffee\n",
        "price = 8\n",
        "\n",
        "#Calculate the customer's total\n",
        "total = price * int(quantity)\n",
        "\n",
        "#Give the customer their total\n",
        "print(\"Thank you. Your total is: $\" + str(total))\n",
        "\n",
        "#Final statement\n",
        "print(\"Sounds good \" + name + \", we'll have your \" + quantity + \" \" + order + \" ready for you in a moment.\")\n"
      ]
    }
  ]
}